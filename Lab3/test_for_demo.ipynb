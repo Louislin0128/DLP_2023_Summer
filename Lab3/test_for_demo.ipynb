{
 "cells": [
  {
   "cell_type": "code",
   "execution_count": null,
   "id": "457b4f26",
   "metadata": {},
   "outputs": [],
   "source": [
    "import torch\n",
    "import torch.nn as nn\n",
    "from tqdm import tqdm\n",
    "from torch.utils.data import DataLoader\n",
    "import ResNetModel as models\n",
    "from dataloader import LeukemiaLoader\n",
    "\n",
    "device = torch.device('cuda' if torch.cuda.is_available() else 'cpu')\n",
    "\n",
    "def test(model, model_name):\n",
    "    test_acc = 0\n",
    "    model.eval()\n",
    "    for i, (data, label) in enumerate(tqdm(test_dataloader)):\n",
    "        with torch.no_grad():  \n",
    "            data = data.to(device, dtype = torch.float)\n",
    "            label = label.to(device, dtype = torch.long)\n",
    "            predicts = model(data)  \n",
    "            test_acc += predicts.max(dim=1)[1].eq(label).sum().item() \n",
    "\n",
    "    test_acc = 100.0 * test_acc / len(test_dataloader.dataset)\n",
    "    print(f'Valid acc: {test_acc:.3f}') \n",
    "    torch.cuda.empty_cache() \n",
    "\n",
    "if __name__ == '__main__':\n",
    "    all_model = ['ResNet18', 'ResNet50', 'ResNet152']\n",
    "    \n",
    "    for model_name in all_model:\n",
    "        batch_size = 32\n",
    "        test_dataloader = DataLoader(LeukemiaLoader('', 'valid'), batch_size = batch_size, shuffle = False)\n",
    "        \n",
    "        if model_name == 'ResNet18':\n",
    "            model = models.ResNet18()\n",
    "            \n",
    "        elif model_name == 'ResNet50':\n",
    "            model = models.ResNet50()\n",
    "            \n",
    "        else:\n",
    "            model = models.ResNet152()\n",
    "\n",
    "        print(f'{model_name}:')\n",
    "        model.load_state_dict(torch.load(f'./{model_name}.pt'))\n",
    "        model = model.to(device)\n",
    "        test(model, model_name)\n",
    "        print('----------------------------\\n')"
   ]
  },
  {
   "cell_type": "code",
   "execution_count": null,
   "id": "252539e4",
   "metadata": {},
   "outputs": [],
   "source": []
  }
 ],
 "metadata": {
  "kernelspec": {
   "display_name": "Python 3 (ipykernel)",
   "language": "python",
   "name": "python3"
  },
  "language_info": {
   "codemirror_mode": {
    "name": "ipython",
    "version": 3
   },
   "file_extension": ".py",
   "mimetype": "text/x-python",
   "name": "python",
   "nbconvert_exporter": "python",
   "pygments_lexer": "ipython3",
   "version": "3.9.13"
  }
 },
 "nbformat": 4,
 "nbformat_minor": 5
}
