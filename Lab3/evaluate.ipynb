{
 "cells": [
  {
   "cell_type": "code",
   "execution_count": null,
   "id": "35426330",
   "metadata": {},
   "outputs": [],
   "source": [
    "import torch\n",
    "import torch.nn as nn\n",
    "from tqdm import tqdm\n",
    "import pandas as pd\n",
    "import matplotlib.pyplot as plt\n",
    "from torchsummary import summary\n",
    "from torch.utils.data import DataLoader\n",
    "import ResNetModel as models\n",
    "from dataloader import LeukemiaLoader\n",
    "\n",
    "device = torch.device('cuda' if torch.cuda.is_available() else 'cpu')\n",
    "\n",
    "def save_result(csv_path, predict_result, model_name):\n",
    "    df = pd.read_csv(csv_path)\n",
    "    new_df = pd.DataFrame()\n",
    "    new_df['ID'] = df['Path']\n",
    "    new_df[\"label\"] = predict_result\n",
    "    new_df.to_csv(\"./312554004_\" + model_name + \".csv\", index = False)\n",
    "    \n",
    "def test(model, model_name):\n",
    "    model.eval()\n",
    "    pred = []\n",
    "    for i, (data, label) in enumerate(tqdm(test_dataloader)):\n",
    "        with torch.no_grad():  \n",
    "            data = data.to(device, dtype = torch.float)\n",
    "            predicts = model(data)\n",
    "            _, pred_num = torch.max(predicts, 1)    \n",
    "            pred.extend(pred_num.detach().cpu().numpy().tolist())\n",
    "\n",
    "    save_result(filename, pred, model_name)\n",
    "    torch.cuda.empty_cache() \n",
    "    \n",
    "if __name__ == '__main__':\n",
    "#     summary(models.ResNet18().to(device), (3, 224, 224))\n",
    "#     summary(models.ResNet50().to(device), (3, 512, 512))\n",
    "#     summary(models.ResNet152().to(device), (3, 512, 512))\n",
    "    \n",
    "    all_model = ['ResNet18', 'ResNet50','ResNet152']\n",
    "    \n",
    "    for model_name in all_model:\n",
    "        batch_size = 32\n",
    "        if model_name == 'ResNet18':\n",
    "            model = models.ResNet18()\n",
    "            test_dataloader = DataLoader(LeukemiaLoader('', 'resnet_18'), batch_size = batch_size, shuffle = False)\n",
    "            filename = 'resnet_18_test.csv'\n",
    "        elif model_name == 'ResNet50':\n",
    "            model = models.ResNet50()\n",
    "            test_dataloader = DataLoader(LeukemiaLoader('', 'resnet_50'), batch_size = batch_size, shuffle = False)\n",
    "            filename = 'resnet_50_test.csv'\n",
    "        else:\n",
    "            model = models.ResNet152()\n",
    "            test_dataloader = DataLoader(LeukemiaLoader('', 'resnet_152'), batch_size = batch_size, shuffle = False)\n",
    "            filename = 'resnet_152_test.csv'\n",
    "\n",
    "        print(f'{model_name}:')\n",
    "        model.load_state_dict(torch.load(f'./{model_name}.pt'))\n",
    "        model = model.to(device)\n",
    "        test(model, model_name)\n",
    "        print('----------------------------')"
   ]
  },
  {
   "cell_type": "code",
   "execution_count": null,
   "id": "1d571e2e",
   "metadata": {},
   "outputs": [],
   "source": []
  },
  {
   "cell_type": "code",
   "execution_count": null,
   "id": "976f0fef",
   "metadata": {},
   "outputs": [],
   "source": []
  }
 ],
 "metadata": {
  "kernelspec": {
   "display_name": "Python 3 (ipykernel)",
   "language": "python",
   "name": "python3"
  },
  "language_info": {
   "codemirror_mode": {
    "name": "ipython",
    "version": 3
   },
   "file_extension": ".py",
   "mimetype": "text/x-python",
   "name": "python",
   "nbconvert_exporter": "python",
   "pygments_lexer": "ipython3",
   "version": "3.9.13"
  }
 },
 "nbformat": 4,
 "nbformat_minor": 5
}
